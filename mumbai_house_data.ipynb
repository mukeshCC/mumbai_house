{
 "cells": [
  {
   "cell_type": "code",
   "execution_count": 1,
   "id": "b20df986",
   "metadata": {},
   "outputs": [],
   "source": [
    "import pandas as pd\n",
    "import numpy as np\n",
    "import matplotlib.pyplot as plt\n",
    "import seaborn as sns"
   ]
  },
  {
   "cell_type": "code",
   "execution_count": 2,
   "id": "66c84c04",
   "metadata": {},
   "outputs": [],
   "source": [
    "data = pd.read_csv(\"Mumbai House Prices.csv\")"
   ]
  },
  {
   "cell_type": "code",
   "execution_count": 3,
   "id": "641f330e",
   "metadata": {},
   "outputs": [
    {
     "name": "stdout",
     "output_type": "stream",
     "text": [
      "<class 'pandas.core.frame.DataFrame'>\n",
      "RangeIndex: 76038 entries, 0 to 76037\n",
      "Data columns (total 9 columns):\n",
      " #   Column      Non-Null Count  Dtype  \n",
      "---  ------      --------------  -----  \n",
      " 0   bhk         76038 non-null  int64  \n",
      " 1   type        76038 non-null  object \n",
      " 2   locality    76038 non-null  object \n",
      " 3   area        76038 non-null  int64  \n",
      " 4   price       76038 non-null  float64\n",
      " 5   price_unit  76038 non-null  object \n",
      " 6   region      76038 non-null  object \n",
      " 7   status      76038 non-null  object \n",
      " 8   age         76038 non-null  object \n",
      "dtypes: float64(1), int64(2), object(6)\n",
      "memory usage: 5.2+ MB\n"
     ]
    }
   ],
   "source": [
    "data.info()"
   ]
  },
  {
   "cell_type": "code",
   "execution_count": 4,
   "id": "e109bd1b",
   "metadata": {},
   "outputs": [
    {
     "data": {
      "text/html": [
       "<div>\n",
       "<style scoped>\n",
       "    .dataframe tbody tr th:only-of-type {\n",
       "        vertical-align: middle;\n",
       "    }\n",
       "\n",
       "    .dataframe tbody tr th {\n",
       "        vertical-align: top;\n",
       "    }\n",
       "\n",
       "    .dataframe thead th {\n",
       "        text-align: right;\n",
       "    }\n",
       "</style>\n",
       "<table border=\"1\" class=\"dataframe\">\n",
       "  <thead>\n",
       "    <tr style=\"text-align: right;\">\n",
       "      <th></th>\n",
       "      <th>bhk</th>\n",
       "      <th>type</th>\n",
       "      <th>locality</th>\n",
       "      <th>area</th>\n",
       "      <th>price</th>\n",
       "      <th>price_unit</th>\n",
       "      <th>region</th>\n",
       "      <th>status</th>\n",
       "      <th>age</th>\n",
       "    </tr>\n",
       "  </thead>\n",
       "  <tbody>\n",
       "    <tr>\n",
       "      <th>0</th>\n",
       "      <td>3</td>\n",
       "      <td>Apartment</td>\n",
       "      <td>Lak And Hanware The Residency Tower</td>\n",
       "      <td>685</td>\n",
       "      <td>2.50</td>\n",
       "      <td>Cr</td>\n",
       "      <td>Andheri West</td>\n",
       "      <td>Ready to move</td>\n",
       "      <td>New</td>\n",
       "    </tr>\n",
       "    <tr>\n",
       "      <th>1</th>\n",
       "      <td>2</td>\n",
       "      <td>Apartment</td>\n",
       "      <td>Radheya Sai Enclave Building No 2</td>\n",
       "      <td>640</td>\n",
       "      <td>52.51</td>\n",
       "      <td>L</td>\n",
       "      <td>Naigaon East</td>\n",
       "      <td>Under Construction</td>\n",
       "      <td>New</td>\n",
       "    </tr>\n",
       "    <tr>\n",
       "      <th>2</th>\n",
       "      <td>2</td>\n",
       "      <td>Apartment</td>\n",
       "      <td>Romell Serene</td>\n",
       "      <td>610</td>\n",
       "      <td>1.73</td>\n",
       "      <td>Cr</td>\n",
       "      <td>Borivali West</td>\n",
       "      <td>Under Construction</td>\n",
       "      <td>New</td>\n",
       "    </tr>\n",
       "    <tr>\n",
       "      <th>3</th>\n",
       "      <td>2</td>\n",
       "      <td>Apartment</td>\n",
       "      <td>Soundlines Codename Urban Rainforest</td>\n",
       "      <td>876</td>\n",
       "      <td>59.98</td>\n",
       "      <td>L</td>\n",
       "      <td>Panvel</td>\n",
       "      <td>Under Construction</td>\n",
       "      <td>New</td>\n",
       "    </tr>\n",
       "    <tr>\n",
       "      <th>4</th>\n",
       "      <td>2</td>\n",
       "      <td>Apartment</td>\n",
       "      <td>Origin Oriana</td>\n",
       "      <td>659</td>\n",
       "      <td>94.11</td>\n",
       "      <td>L</td>\n",
       "      <td>Mira Road East</td>\n",
       "      <td>Under Construction</td>\n",
       "      <td>New</td>\n",
       "    </tr>\n",
       "  </tbody>\n",
       "</table>\n",
       "</div>"
      ],
      "text/plain": [
       "   bhk       type                              locality  area  price  \\\n",
       "0    3  Apartment   Lak And Hanware The Residency Tower   685   2.50   \n",
       "1    2  Apartment     Radheya Sai Enclave Building No 2   640  52.51   \n",
       "2    2  Apartment                         Romell Serene   610   1.73   \n",
       "3    2  Apartment  Soundlines Codename Urban Rainforest   876  59.98   \n",
       "4    2  Apartment                         Origin Oriana   659  94.11   \n",
       "\n",
       "  price_unit          region              status  age  \n",
       "0         Cr    Andheri West       Ready to move  New  \n",
       "1          L    Naigaon East  Under Construction  New  \n",
       "2         Cr   Borivali West  Under Construction  New  \n",
       "3          L          Panvel  Under Construction  New  \n",
       "4          L  Mira Road East  Under Construction  New  "
      ]
     },
     "execution_count": 4,
     "metadata": {},
     "output_type": "execute_result"
    }
   ],
   "source": [
    "data.head()"
   ]
  },
  {
   "cell_type": "code",
   "execution_count": 5,
   "id": "73c93f5e",
   "metadata": {},
   "outputs": [
    {
     "data": {
      "text/html": [
       "<div>\n",
       "<style scoped>\n",
       "    .dataframe tbody tr th:only-of-type {\n",
       "        vertical-align: middle;\n",
       "    }\n",
       "\n",
       "    .dataframe tbody tr th {\n",
       "        vertical-align: top;\n",
       "    }\n",
       "\n",
       "    .dataframe thead th {\n",
       "        text-align: right;\n",
       "    }\n",
       "</style>\n",
       "<table border=\"1\" class=\"dataframe\">\n",
       "  <thead>\n",
       "    <tr style=\"text-align: right;\">\n",
       "      <th></th>\n",
       "      <th>bhk</th>\n",
       "      <th>area</th>\n",
       "      <th>price</th>\n",
       "    </tr>\n",
       "  </thead>\n",
       "  <tbody>\n",
       "    <tr>\n",
       "      <th>count</th>\n",
       "      <td>76038.000000</td>\n",
       "      <td>76038.000000</td>\n",
       "      <td>76038.00000</td>\n",
       "    </tr>\n",
       "    <tr>\n",
       "      <th>mean</th>\n",
       "      <td>2.015111</td>\n",
       "      <td>1024.536850</td>\n",
       "      <td>29.38227</td>\n",
       "    </tr>\n",
       "    <tr>\n",
       "      <th>std</th>\n",
       "      <td>0.922754</td>\n",
       "      <td>670.276165</td>\n",
       "      <td>32.90345</td>\n",
       "    </tr>\n",
       "    <tr>\n",
       "      <th>min</th>\n",
       "      <td>1.000000</td>\n",
       "      <td>127.000000</td>\n",
       "      <td>1.00000</td>\n",
       "    </tr>\n",
       "    <tr>\n",
       "      <th>25%</th>\n",
       "      <td>1.000000</td>\n",
       "      <td>640.000000</td>\n",
       "      <td>1.75000</td>\n",
       "    </tr>\n",
       "    <tr>\n",
       "      <th>50%</th>\n",
       "      <td>2.000000</td>\n",
       "      <td>872.000000</td>\n",
       "      <td>5.50000</td>\n",
       "    </tr>\n",
       "    <tr>\n",
       "      <th>75%</th>\n",
       "      <td>3.000000</td>\n",
       "      <td>1179.000000</td>\n",
       "      <td>59.00000</td>\n",
       "    </tr>\n",
       "    <tr>\n",
       "      <th>max</th>\n",
       "      <td>10.000000</td>\n",
       "      <td>16000.000000</td>\n",
       "      <td>99.99000</td>\n",
       "    </tr>\n",
       "  </tbody>\n",
       "</table>\n",
       "</div>"
      ],
      "text/plain": [
       "                bhk          area        price\n",
       "count  76038.000000  76038.000000  76038.00000\n",
       "mean       2.015111   1024.536850     29.38227\n",
       "std        0.922754    670.276165     32.90345\n",
       "min        1.000000    127.000000      1.00000\n",
       "25%        1.000000    640.000000      1.75000\n",
       "50%        2.000000    872.000000      5.50000\n",
       "75%        3.000000   1179.000000     59.00000\n",
       "max       10.000000  16000.000000     99.99000"
      ]
     },
     "execution_count": 5,
     "metadata": {},
     "output_type": "execute_result"
    }
   ],
   "source": [
    "data.describe()"
   ]
  },
  {
   "cell_type": "code",
   "execution_count": 6,
   "id": "3f109964",
   "metadata": {},
   "outputs": [
    {
     "data": {
      "text/plain": [
       "bhk           0\n",
       "type          0\n",
       "locality      0\n",
       "area          0\n",
       "price         0\n",
       "price_unit    0\n",
       "region        0\n",
       "status        0\n",
       "age           0\n",
       "dtype: int64"
      ]
     },
     "execution_count": 6,
     "metadata": {},
     "output_type": "execute_result"
    }
   ],
   "source": [
    "data.isnull().sum()"
   ]
  },
  {
   "cell_type": "code",
   "execution_count": 7,
   "id": "f40d10b5",
   "metadata": {},
   "outputs": [
    {
     "name": "stdout",
     "output_type": "stream",
     "text": [
      "2     31429\n",
      "1     24613\n",
      "3     15273\n",
      "4      3934\n",
      "5       606\n",
      "6       148\n",
      "7        16\n",
      "8         8\n",
      "10        6\n",
      "9         5\n",
      "Name: bhk, dtype: int64\n",
      "Apartment            74854\n",
      "Studio Apartment       882\n",
      "Villa                  226\n",
      "Independent House       73\n",
      "Penthouse                3\n",
      "Name: type, dtype: int64\n",
      "Hiranandani Meadows                    861\n",
      "Sheth Avalon                           516\n",
      "T Bhimjyani The Verraton               499\n",
      "ACME Ozone Phase 2                     467\n",
      "Runwal Gardens                         389\n",
      "                                      ... \n",
      "HP Anton CHSL Rishab Anton               1\n",
      "Reputed Builder Shankar Heritage         1\n",
      "Reputed Builder Aishwarya Apartment      1\n",
      "Reputed Builder Vinit Tower              1\n",
      "Hubtown Serene                           1\n",
      "Name: locality, Length: 9782, dtype: int64\n",
      "650     1662\n",
      "1050    1381\n",
      "1100    1151\n",
      "1650    1041\n",
      "750      950\n",
      "        ... \n",
      "2369       1\n",
      "1945       1\n",
      "1442       1\n",
      "2672       1\n",
      "3049       1\n",
      "Name: area, Length: 2331, dtype: int64\n",
      "1.75     972\n",
      "1.25     948\n",
      "1.35     854\n",
      "1.15     846\n",
      "1.10     839\n",
      "        ... \n",
      "27.47      1\n",
      "29.11      1\n",
      "71.84      1\n",
      "56.68      1\n",
      "4.38       1\n",
      "Name: price, Length: 4729, dtype: int64\n",
      "Cr    40981\n",
      "L     35057\n",
      "Name: price_unit, dtype: int64\n",
      "Thane West         14868\n",
      "Mira Road East      9902\n",
      "Dombivali           3041\n",
      "Kandivali East      2568\n",
      "Kharghar            2362\n",
      "                   ...  \n",
      "Police Colony          1\n",
      "GTB Nagar              1\n",
      "Bandra                 1\n",
      "Sector 14 Vashi        1\n",
      "Goregaon               1\n",
      "Name: region, Length: 228, dtype: int64\n",
      "Ready to move         44982\n",
      "Under Construction    31056\n",
      "Name: status, dtype: int64\n",
      "New        38072\n",
      "Resale     23357\n",
      "Unknown    14609\n",
      "Name: age, dtype: int64\n"
     ]
    }
   ],
   "source": [
    "for column in data.columns:\n",
    "    print(data[column].value_counts())"
   ]
  },
  {
   "cell_type": "code",
   "execution_count": 8,
   "id": "9a6f93a4",
   "metadata": {},
   "outputs": [],
   "source": [
    "#convert price crore to lakh \n",
    "convert_crore_to_lakh = 100    # 1 crore = 100 lakh\n",
    "def convert_to_lakhs(row):\n",
    "    if row[\"price_unit\"]==\"L\":\n",
    "        return row[\"price\"]\n",
    "    elif row[\"price_unit\"]==\"Cr\":\n",
    "        return row[\"price\"]*convert_crore_to_lakh"
   ]
  },
  {
   "cell_type": "code",
   "execution_count": 9,
   "id": "47a5dccb",
   "metadata": {},
   "outputs": [],
   "source": [
    "data[\"price_lakh\"]=data.apply(convert_to_lakhs,axis=1)"
   ]
  },
  {
   "cell_type": "code",
   "execution_count": 10,
   "id": "cf4aedb0",
   "metadata": {},
   "outputs": [
    {
     "data": {
      "text/html": [
       "<div>\n",
       "<style scoped>\n",
       "    .dataframe tbody tr th:only-of-type {\n",
       "        vertical-align: middle;\n",
       "    }\n",
       "\n",
       "    .dataframe tbody tr th {\n",
       "        vertical-align: top;\n",
       "    }\n",
       "\n",
       "    .dataframe thead th {\n",
       "        text-align: right;\n",
       "    }\n",
       "</style>\n",
       "<table border=\"1\" class=\"dataframe\">\n",
       "  <thead>\n",
       "    <tr style=\"text-align: right;\">\n",
       "      <th></th>\n",
       "      <th>bhk</th>\n",
       "      <th>type</th>\n",
       "      <th>locality</th>\n",
       "      <th>area</th>\n",
       "      <th>price</th>\n",
       "      <th>price_unit</th>\n",
       "      <th>region</th>\n",
       "      <th>status</th>\n",
       "      <th>age</th>\n",
       "      <th>price_lakh</th>\n",
       "    </tr>\n",
       "  </thead>\n",
       "  <tbody>\n",
       "    <tr>\n",
       "      <th>0</th>\n",
       "      <td>3</td>\n",
       "      <td>Apartment</td>\n",
       "      <td>Lak And Hanware The Residency Tower</td>\n",
       "      <td>685</td>\n",
       "      <td>2.50</td>\n",
       "      <td>Cr</td>\n",
       "      <td>Andheri West</td>\n",
       "      <td>Ready to move</td>\n",
       "      <td>New</td>\n",
       "      <td>250.00</td>\n",
       "    </tr>\n",
       "    <tr>\n",
       "      <th>1</th>\n",
       "      <td>2</td>\n",
       "      <td>Apartment</td>\n",
       "      <td>Radheya Sai Enclave Building No 2</td>\n",
       "      <td>640</td>\n",
       "      <td>52.51</td>\n",
       "      <td>L</td>\n",
       "      <td>Naigaon East</td>\n",
       "      <td>Under Construction</td>\n",
       "      <td>New</td>\n",
       "      <td>52.51</td>\n",
       "    </tr>\n",
       "    <tr>\n",
       "      <th>2</th>\n",
       "      <td>2</td>\n",
       "      <td>Apartment</td>\n",
       "      <td>Romell Serene</td>\n",
       "      <td>610</td>\n",
       "      <td>1.73</td>\n",
       "      <td>Cr</td>\n",
       "      <td>Borivali West</td>\n",
       "      <td>Under Construction</td>\n",
       "      <td>New</td>\n",
       "      <td>173.00</td>\n",
       "    </tr>\n",
       "    <tr>\n",
       "      <th>3</th>\n",
       "      <td>2</td>\n",
       "      <td>Apartment</td>\n",
       "      <td>Soundlines Codename Urban Rainforest</td>\n",
       "      <td>876</td>\n",
       "      <td>59.98</td>\n",
       "      <td>L</td>\n",
       "      <td>Panvel</td>\n",
       "      <td>Under Construction</td>\n",
       "      <td>New</td>\n",
       "      <td>59.98</td>\n",
       "    </tr>\n",
       "    <tr>\n",
       "      <th>4</th>\n",
       "      <td>2</td>\n",
       "      <td>Apartment</td>\n",
       "      <td>Origin Oriana</td>\n",
       "      <td>659</td>\n",
       "      <td>94.11</td>\n",
       "      <td>L</td>\n",
       "      <td>Mira Road East</td>\n",
       "      <td>Under Construction</td>\n",
       "      <td>New</td>\n",
       "      <td>94.11</td>\n",
       "    </tr>\n",
       "  </tbody>\n",
       "</table>\n",
       "</div>"
      ],
      "text/plain": [
       "   bhk       type                              locality  area  price  \\\n",
       "0    3  Apartment   Lak And Hanware The Residency Tower   685   2.50   \n",
       "1    2  Apartment     Radheya Sai Enclave Building No 2   640  52.51   \n",
       "2    2  Apartment                         Romell Serene   610   1.73   \n",
       "3    2  Apartment  Soundlines Codename Urban Rainforest   876  59.98   \n",
       "4    2  Apartment                         Origin Oriana   659  94.11   \n",
       "\n",
       "  price_unit          region              status  age  price_lakh  \n",
       "0         Cr    Andheri West       Ready to move  New      250.00  \n",
       "1          L    Naigaon East  Under Construction  New       52.51  \n",
       "2         Cr   Borivali West  Under Construction  New      173.00  \n",
       "3          L          Panvel  Under Construction  New       59.98  \n",
       "4          L  Mira Road East  Under Construction  New       94.11  "
      ]
     },
     "execution_count": 10,
     "metadata": {},
     "output_type": "execute_result"
    }
   ],
   "source": [
    "data.head()"
   ]
  },
  {
   "cell_type": "code",
   "execution_count": 11,
   "id": "473faa6f",
   "metadata": {},
   "outputs": [],
   "source": [
    "data = data.drop(['locality','price','price_unit','status','age'],axis=1)"
   ]
  },
  {
   "cell_type": "code",
   "execution_count": 12,
   "id": "f8180c65",
   "metadata": {},
   "outputs": [
    {
     "data": {
      "text/html": [
       "<div>\n",
       "<style scoped>\n",
       "    .dataframe tbody tr th:only-of-type {\n",
       "        vertical-align: middle;\n",
       "    }\n",
       "\n",
       "    .dataframe tbody tr th {\n",
       "        vertical-align: top;\n",
       "    }\n",
       "\n",
       "    .dataframe thead th {\n",
       "        text-align: right;\n",
       "    }\n",
       "</style>\n",
       "<table border=\"1\" class=\"dataframe\">\n",
       "  <thead>\n",
       "    <tr style=\"text-align: right;\">\n",
       "      <th></th>\n",
       "      <th>bhk</th>\n",
       "      <th>type</th>\n",
       "      <th>area</th>\n",
       "      <th>region</th>\n",
       "      <th>price_lakh</th>\n",
       "    </tr>\n",
       "  </thead>\n",
       "  <tbody>\n",
       "    <tr>\n",
       "      <th>0</th>\n",
       "      <td>3</td>\n",
       "      <td>Apartment</td>\n",
       "      <td>685</td>\n",
       "      <td>Andheri West</td>\n",
       "      <td>250.00</td>\n",
       "    </tr>\n",
       "    <tr>\n",
       "      <th>1</th>\n",
       "      <td>2</td>\n",
       "      <td>Apartment</td>\n",
       "      <td>640</td>\n",
       "      <td>Naigaon East</td>\n",
       "      <td>52.51</td>\n",
       "    </tr>\n",
       "    <tr>\n",
       "      <th>2</th>\n",
       "      <td>2</td>\n",
       "      <td>Apartment</td>\n",
       "      <td>610</td>\n",
       "      <td>Borivali West</td>\n",
       "      <td>173.00</td>\n",
       "    </tr>\n",
       "    <tr>\n",
       "      <th>3</th>\n",
       "      <td>2</td>\n",
       "      <td>Apartment</td>\n",
       "      <td>876</td>\n",
       "      <td>Panvel</td>\n",
       "      <td>59.98</td>\n",
       "    </tr>\n",
       "    <tr>\n",
       "      <th>4</th>\n",
       "      <td>2</td>\n",
       "      <td>Apartment</td>\n",
       "      <td>659</td>\n",
       "      <td>Mira Road East</td>\n",
       "      <td>94.11</td>\n",
       "    </tr>\n",
       "  </tbody>\n",
       "</table>\n",
       "</div>"
      ],
      "text/plain": [
       "   bhk       type  area          region  price_lakh\n",
       "0    3  Apartment   685    Andheri West      250.00\n",
       "1    2  Apartment   640    Naigaon East       52.51\n",
       "2    2  Apartment   610   Borivali West      173.00\n",
       "3    2  Apartment   876          Panvel       59.98\n",
       "4    2  Apartment   659  Mira Road East       94.11"
      ]
     },
     "execution_count": 12,
     "metadata": {},
     "output_type": "execute_result"
    }
   ],
   "source": [
    "data.head()"
   ]
  },
  {
   "cell_type": "code",
   "execution_count": 13,
   "id": "02d3a9f6",
   "metadata": {},
   "outputs": [
    {
     "data": {
      "text/plain": [
       "Apartment            74854\n",
       "Studio Apartment       882\n",
       "Villa                  226\n",
       "Independent House       73\n",
       "Penthouse                3\n",
       "Name: type, dtype: int64"
      ]
     },
     "execution_count": 13,
     "metadata": {},
     "output_type": "execute_result"
    }
   ],
   "source": [
    "data['type'].value_counts()"
   ]
  },
  {
   "cell_type": "code",
   "execution_count": 14,
   "id": "03bc7c9a",
   "metadata": {},
   "outputs": [
    {
     "data": {
      "text/plain": [
       "Thane West         14868\n",
       "Mira Road East      9902\n",
       "Dombivali           3041\n",
       "Kandivali East      2568\n",
       "Kharghar            2362\n",
       "                   ...  \n",
       "Police Colony          1\n",
       "GTB Nagar              1\n",
       "Bandra                 1\n",
       "Sector 14 Vashi        1\n",
       "Goregaon               1\n",
       "Name: region, Length: 228, dtype: int64"
      ]
     },
     "execution_count": 14,
     "metadata": {},
     "output_type": "execute_result"
    }
   ],
   "source": [
    "data['region'].value_counts()"
   ]
  },
  {
   "cell_type": "code",
   "execution_count": 15,
   "id": "0c11b740",
   "metadata": {},
   "outputs": [],
   "source": [
    "data['region']=data['region'].apply(lambda x: x.strip())\n",
    "region_count = data['region'].value_counts()"
   ]
  },
  {
   "cell_type": "code",
   "execution_count": 16,
   "id": "d46c2df2",
   "metadata": {},
   "outputs": [
    {
     "data": {
      "text/plain": [
       "Thane West         14868\n",
       "Mira Road East      9902\n",
       "Dombivali           3041\n",
       "Kandivali East      2568\n",
       "Kharghar            2362\n",
       "                   ...  \n",
       "Police Colony          1\n",
       "GTB Nagar              1\n",
       "Bandra                 1\n",
       "Sector 14 Vashi        1\n",
       "Goregaon               1\n",
       "Name: region, Length: 228, dtype: int64"
      ]
     },
     "execution_count": 16,
     "metadata": {},
     "output_type": "execute_result"
    }
   ],
   "source": [
    "region_count"
   ]
  },
  {
   "cell_type": "code",
   "execution_count": 17,
   "id": "697ac184",
   "metadata": {},
   "outputs": [
    {
     "data": {
      "text/plain": [
       "Kanjurmarg East      10\n",
       "Vasind               10\n",
       "Sector 20 Kamothe    10\n",
       "Koproli              10\n",
       "Cuffe Parade          9\n",
       "                     ..\n",
       "Police Colony         1\n",
       "GTB Nagar             1\n",
       "Bandra                1\n",
       "Sector 14 Vashi       1\n",
       "Goregaon              1\n",
       "Name: region, Length: 114, dtype: int64"
      ]
     },
     "execution_count": 17,
     "metadata": {},
     "output_type": "execute_result"
    }
   ],
   "source": [
    "region_count_less_10 = region_count[region_count<=10]\n",
    "region_count_less_10"
   ]
  },
  {
   "cell_type": "code",
   "execution_count": 18,
   "id": "0970c898",
   "metadata": {},
   "outputs": [],
   "source": [
    "data['region']=data['region'].apply(lambda x:'other' if x in region_count_less_10 else x)"
   ]
  },
  {
   "cell_type": "code",
   "execution_count": 19,
   "id": "01ec98e4",
   "metadata": {},
   "outputs": [
    {
     "data": {
      "text/plain": [
       "Thane West           14868\n",
       "Mira Road East        9902\n",
       "Dombivali             3041\n",
       "Kandivali East        2568\n",
       "Kharghar              2362\n",
       "                     ...  \n",
       "Sector 21 Kamothe       16\n",
       "Kalwa                   15\n",
       "Nalasopara East         15\n",
       "Vangani                 13\n",
       "Saphale                 12\n",
       "Name: region, Length: 115, dtype: int64"
      ]
     },
     "execution_count": 19,
     "metadata": {},
     "output_type": "execute_result"
    }
   ],
   "source": [
    "data['region'].value_counts()"
   ]
  },
  {
   "cell_type": "code",
   "execution_count": 20,
   "id": "42c79338",
   "metadata": {},
   "outputs": [],
   "source": [
    "data['price_per_sqft']=data['price_lakh']*100000/data['area']"
   ]
  },
  {
   "cell_type": "code",
   "execution_count": 21,
   "id": "68b61cc7",
   "metadata": {},
   "outputs": [
    {
     "data": {
      "text/html": [
       "<div>\n",
       "<style scoped>\n",
       "    .dataframe tbody tr th:only-of-type {\n",
       "        vertical-align: middle;\n",
       "    }\n",
       "\n",
       "    .dataframe tbody tr th {\n",
       "        vertical-align: top;\n",
       "    }\n",
       "\n",
       "    .dataframe thead th {\n",
       "        text-align: right;\n",
       "    }\n",
       "</style>\n",
       "<table border=\"1\" class=\"dataframe\">\n",
       "  <thead>\n",
       "    <tr style=\"text-align: right;\">\n",
       "      <th></th>\n",
       "      <th>bhk</th>\n",
       "      <th>area</th>\n",
       "      <th>price_lakh</th>\n",
       "      <th>price_per_sqft</th>\n",
       "    </tr>\n",
       "  </thead>\n",
       "  <tbody>\n",
       "    <tr>\n",
       "      <th>count</th>\n",
       "      <td>76038.000000</td>\n",
       "      <td>76038.000000</td>\n",
       "      <td>76038.000000</td>\n",
       "      <td>76038.000000</td>\n",
       "    </tr>\n",
       "    <tr>\n",
       "      <th>mean</th>\n",
       "      <td>2.015111</td>\n",
       "      <td>1024.536850</td>\n",
       "      <td>168.417795</td>\n",
       "      <td>15118.812074</td>\n",
       "    </tr>\n",
       "    <tr>\n",
       "      <th>std</th>\n",
       "      <td>0.922754</td>\n",
       "      <td>670.276165</td>\n",
       "      <td>217.665511</td>\n",
       "      <td>9332.899565</td>\n",
       "    </tr>\n",
       "    <tr>\n",
       "      <th>min</th>\n",
       "      <td>1.000000</td>\n",
       "      <td>127.000000</td>\n",
       "      <td>4.490000</td>\n",
       "      <td>646.766169</td>\n",
       "    </tr>\n",
       "    <tr>\n",
       "      <th>25%</th>\n",
       "      <td>1.000000</td>\n",
       "      <td>640.000000</td>\n",
       "      <td>64.000000</td>\n",
       "      <td>8571.428571</td>\n",
       "    </tr>\n",
       "    <tr>\n",
       "      <th>50%</th>\n",
       "      <td>2.000000</td>\n",
       "      <td>872.000000</td>\n",
       "      <td>110.000000</td>\n",
       "      <td>13000.000000</td>\n",
       "    </tr>\n",
       "    <tr>\n",
       "      <th>75%</th>\n",
       "      <td>3.000000</td>\n",
       "      <td>1179.000000</td>\n",
       "      <td>194.000000</td>\n",
       "      <td>19496.115827</td>\n",
       "    </tr>\n",
       "    <tr>\n",
       "      <th>max</th>\n",
       "      <td>10.000000</td>\n",
       "      <td>16000.000000</td>\n",
       "      <td>6000.000000</td>\n",
       "      <td>182307.692308</td>\n",
       "    </tr>\n",
       "  </tbody>\n",
       "</table>\n",
       "</div>"
      ],
      "text/plain": [
       "                bhk          area    price_lakh  price_per_sqft\n",
       "count  76038.000000  76038.000000  76038.000000    76038.000000\n",
       "mean       2.015111   1024.536850    168.417795    15118.812074\n",
       "std        0.922754    670.276165    217.665511     9332.899565\n",
       "min        1.000000    127.000000      4.490000      646.766169\n",
       "25%        1.000000    640.000000     64.000000     8571.428571\n",
       "50%        2.000000    872.000000    110.000000    13000.000000\n",
       "75%        3.000000   1179.000000    194.000000    19496.115827\n",
       "max       10.000000  16000.000000   6000.000000   182307.692308"
      ]
     },
     "execution_count": 21,
     "metadata": {},
     "output_type": "execute_result"
    }
   ],
   "source": [
    "data.describe()"
   ]
  },
  {
   "cell_type": "code",
   "execution_count": 22,
   "id": "6684a6dd",
   "metadata": {},
   "outputs": [
    {
     "data": {
      "text/plain": [
       "bhk               0\n",
       "type              0\n",
       "area              0\n",
       "region            0\n",
       "price_lakh        0\n",
       "price_per_sqft    0\n",
       "dtype: int64"
      ]
     },
     "execution_count": 22,
     "metadata": {},
     "output_type": "execute_result"
    }
   ],
   "source": [
    "data.isnull().sum()"
   ]
  },
  {
   "cell_type": "code",
   "execution_count": 23,
   "id": "1f5b8225",
   "metadata": {},
   "outputs": [],
   "source": [
    "def rmv_out_sqft(df):\n",
    "    df_output = pd.DataFrame()\n",
    "    for key,subdf in df.groupby('region'):\n",
    "        m = np.mean(subdf.price_per_sqft)\n",
    "        std = np.std(subdf.price_per_sqft)\n",
    "        \n",
    "        gen_df =subdf[(subdf.price_per_sqft>(m-std))&(subdf.price_per_sqft<(m+std))]\n",
    "        df_output = pd.concat([df_output,gen_df],ignore_index=True)\n",
    "    return df_output"
   ]
  },
  {
   "cell_type": "code",
   "execution_count": 24,
   "id": "c11d35ec",
   "metadata": {},
   "outputs": [
    {
     "data": {
      "text/html": [
       "<div>\n",
       "<style scoped>\n",
       "    .dataframe tbody tr th:only-of-type {\n",
       "        vertical-align: middle;\n",
       "    }\n",
       "\n",
       "    .dataframe tbody tr th {\n",
       "        vertical-align: top;\n",
       "    }\n",
       "\n",
       "    .dataframe thead th {\n",
       "        text-align: right;\n",
       "    }\n",
       "</style>\n",
       "<table border=\"1\" class=\"dataframe\">\n",
       "  <thead>\n",
       "    <tr style=\"text-align: right;\">\n",
       "      <th></th>\n",
       "      <th>bhk</th>\n",
       "      <th>area</th>\n",
       "      <th>price_lakh</th>\n",
       "      <th>price_per_sqft</th>\n",
       "    </tr>\n",
       "  </thead>\n",
       "  <tbody>\n",
       "    <tr>\n",
       "      <th>count</th>\n",
       "      <td>57406.000000</td>\n",
       "      <td>57406.000000</td>\n",
       "      <td>57406.000000</td>\n",
       "      <td>57406.000000</td>\n",
       "    </tr>\n",
       "    <tr>\n",
       "      <th>mean</th>\n",
       "      <td>1.992161</td>\n",
       "      <td>1030.850381</td>\n",
       "      <td>156.741405</td>\n",
       "      <td>14215.289653</td>\n",
       "    </tr>\n",
       "    <tr>\n",
       "      <th>std</th>\n",
       "      <td>0.901145</td>\n",
       "      <td>639.866479</td>\n",
       "      <td>179.275851</td>\n",
       "      <td>8060.050256</td>\n",
       "    </tr>\n",
       "    <tr>\n",
       "      <th>min</th>\n",
       "      <td>1.000000</td>\n",
       "      <td>150.000000</td>\n",
       "      <td>9.000000</td>\n",
       "      <td>2416.666667</td>\n",
       "    </tr>\n",
       "    <tr>\n",
       "      <th>25%</th>\n",
       "      <td>1.000000</td>\n",
       "      <td>650.000000</td>\n",
       "      <td>64.100000</td>\n",
       "      <td>8341.750842</td>\n",
       "    </tr>\n",
       "    <tr>\n",
       "      <th>50%</th>\n",
       "      <td>2.000000</td>\n",
       "      <td>900.000000</td>\n",
       "      <td>109.000000</td>\n",
       "      <td>12380.952381</td>\n",
       "    </tr>\n",
       "    <tr>\n",
       "      <th>75%</th>\n",
       "      <td>3.000000</td>\n",
       "      <td>1187.000000</td>\n",
       "      <td>188.000000</td>\n",
       "      <td>18333.333333</td>\n",
       "    </tr>\n",
       "    <tr>\n",
       "      <th>max</th>\n",
       "      <td>10.000000</td>\n",
       "      <td>16000.000000</td>\n",
       "      <td>5555.000000</td>\n",
       "      <td>67307.692308</td>\n",
       "    </tr>\n",
       "  </tbody>\n",
       "</table>\n",
       "</div>"
      ],
      "text/plain": [
       "                bhk          area    price_lakh  price_per_sqft\n",
       "count  57406.000000  57406.000000  57406.000000    57406.000000\n",
       "mean       1.992161   1030.850381    156.741405    14215.289653\n",
       "std        0.901145    639.866479    179.275851     8060.050256\n",
       "min        1.000000    150.000000      9.000000     2416.666667\n",
       "25%        1.000000    650.000000     64.100000     8341.750842\n",
       "50%        2.000000    900.000000    109.000000    12380.952381\n",
       "75%        3.000000   1187.000000    188.000000    18333.333333\n",
       "max       10.000000  16000.000000   5555.000000    67307.692308"
      ]
     },
     "execution_count": 24,
     "metadata": {},
     "output_type": "execute_result"
    }
   ],
   "source": [
    "df1 = rmv_out_sqft(data)\n",
    "df1.describe()"
   ]
  },
  {
   "cell_type": "code",
   "execution_count": 25,
   "id": "1a4fb989",
   "metadata": {},
   "outputs": [
    {
     "data": {
      "text/plain": [
       "bhk               0\n",
       "type              0\n",
       "area              0\n",
       "region            0\n",
       "price_lakh        0\n",
       "price_per_sqft    0\n",
       "dtype: int64"
      ]
     },
     "execution_count": 25,
     "metadata": {},
     "output_type": "execute_result"
    }
   ],
   "source": [
    "df1.isnull().sum()"
   ]
  },
  {
   "cell_type": "code",
   "execution_count": 26,
   "id": "64e1d09a",
   "metadata": {},
   "outputs": [
    {
     "data": {
      "text/html": [
       "<div>\n",
       "<style scoped>\n",
       "    .dataframe tbody tr th:only-of-type {\n",
       "        vertical-align: middle;\n",
       "    }\n",
       "\n",
       "    .dataframe tbody tr th {\n",
       "        vertical-align: top;\n",
       "    }\n",
       "\n",
       "    .dataframe thead th {\n",
       "        text-align: right;\n",
       "    }\n",
       "</style>\n",
       "<table border=\"1\" class=\"dataframe\">\n",
       "  <thead>\n",
       "    <tr style=\"text-align: right;\">\n",
       "      <th></th>\n",
       "      <th>bhk</th>\n",
       "      <th>type</th>\n",
       "      <th>area</th>\n",
       "      <th>region</th>\n",
       "      <th>price_lakh</th>\n",
       "      <th>price_per_sqft</th>\n",
       "    </tr>\n",
       "  </thead>\n",
       "  <tbody>\n",
       "    <tr>\n",
       "      <th>0</th>\n",
       "      <td>2</td>\n",
       "      <td>Apartment</td>\n",
       "      <td>650</td>\n",
       "      <td>Agripada</td>\n",
       "      <td>262.0</td>\n",
       "      <td>40307.692308</td>\n",
       "    </tr>\n",
       "    <tr>\n",
       "      <th>1</th>\n",
       "      <td>1</td>\n",
       "      <td>Apartment</td>\n",
       "      <td>803</td>\n",
       "      <td>Agripada</td>\n",
       "      <td>225.0</td>\n",
       "      <td>28019.925280</td>\n",
       "    </tr>\n",
       "    <tr>\n",
       "      <th>2</th>\n",
       "      <td>1</td>\n",
       "      <td>Apartment</td>\n",
       "      <td>684</td>\n",
       "      <td>Agripada</td>\n",
       "      <td>170.0</td>\n",
       "      <td>24853.801170</td>\n",
       "    </tr>\n",
       "    <tr>\n",
       "      <th>3</th>\n",
       "      <td>1</td>\n",
       "      <td>Apartment</td>\n",
       "      <td>545</td>\n",
       "      <td>Agripada</td>\n",
       "      <td>160.0</td>\n",
       "      <td>29357.798165</td>\n",
       "    </tr>\n",
       "    <tr>\n",
       "      <th>4</th>\n",
       "      <td>2</td>\n",
       "      <td>Apartment</td>\n",
       "      <td>1650</td>\n",
       "      <td>Agripada</td>\n",
       "      <td>350.0</td>\n",
       "      <td>21212.121212</td>\n",
       "    </tr>\n",
       "    <tr>\n",
       "      <th>...</th>\n",
       "      <td>...</td>\n",
       "      <td>...</td>\n",
       "      <td>...</td>\n",
       "      <td>...</td>\n",
       "      <td>...</td>\n",
       "      <td>...</td>\n",
       "    </tr>\n",
       "    <tr>\n",
       "      <th>57401</th>\n",
       "      <td>1</td>\n",
       "      <td>Apartment</td>\n",
       "      <td>430</td>\n",
       "      <td>other</td>\n",
       "      <td>70.0</td>\n",
       "      <td>16279.069767</td>\n",
       "    </tr>\n",
       "    <tr>\n",
       "      <th>57402</th>\n",
       "      <td>1</td>\n",
       "      <td>Apartment</td>\n",
       "      <td>600</td>\n",
       "      <td>other</td>\n",
       "      <td>14.5</td>\n",
       "      <td>2416.666667</td>\n",
       "    </tr>\n",
       "    <tr>\n",
       "      <th>57403</th>\n",
       "      <td>2</td>\n",
       "      <td>Apartment</td>\n",
       "      <td>675</td>\n",
       "      <td>other</td>\n",
       "      <td>50.0</td>\n",
       "      <td>7407.407407</td>\n",
       "    </tr>\n",
       "    <tr>\n",
       "      <th>57404</th>\n",
       "      <td>1</td>\n",
       "      <td>Apartment</td>\n",
       "      <td>370</td>\n",
       "      <td>other</td>\n",
       "      <td>62.0</td>\n",
       "      <td>16756.756757</td>\n",
       "    </tr>\n",
       "    <tr>\n",
       "      <th>57405</th>\n",
       "      <td>1</td>\n",
       "      <td>Apartment</td>\n",
       "      <td>700</td>\n",
       "      <td>other</td>\n",
       "      <td>37.0</td>\n",
       "      <td>5285.714286</td>\n",
       "    </tr>\n",
       "  </tbody>\n",
       "</table>\n",
       "<p>57406 rows × 6 columns</p>\n",
       "</div>"
      ],
      "text/plain": [
       "       bhk       type  area    region  price_lakh  price_per_sqft\n",
       "0        2  Apartment   650  Agripada       262.0    40307.692308\n",
       "1        1  Apartment   803  Agripada       225.0    28019.925280\n",
       "2        1  Apartment   684  Agripada       170.0    24853.801170\n",
       "3        1  Apartment   545  Agripada       160.0    29357.798165\n",
       "4        2  Apartment  1650  Agripada       350.0    21212.121212\n",
       "...    ...        ...   ...       ...         ...             ...\n",
       "57401    1  Apartment   430     other        70.0    16279.069767\n",
       "57402    1  Apartment   600     other        14.5     2416.666667\n",
       "57403    2  Apartment   675     other        50.0     7407.407407\n",
       "57404    1  Apartment   370     other        62.0    16756.756757\n",
       "57405    1  Apartment   700     other        37.0     5285.714286\n",
       "\n",
       "[57406 rows x 6 columns]"
      ]
     },
     "execution_count": 26,
     "metadata": {},
     "output_type": "execute_result"
    }
   ],
   "source": [
    "df1"
   ]
  },
  {
   "cell_type": "code",
   "execution_count": 27,
   "id": "54290f27",
   "metadata": {},
   "outputs": [
    {
     "data": {
      "text/html": [
       "<div>\n",
       "<style scoped>\n",
       "    .dataframe tbody tr th:only-of-type {\n",
       "        vertical-align: middle;\n",
       "    }\n",
       "\n",
       "    .dataframe tbody tr th {\n",
       "        vertical-align: top;\n",
       "    }\n",
       "\n",
       "    .dataframe thead th {\n",
       "        text-align: right;\n",
       "    }\n",
       "</style>\n",
       "<table border=\"1\" class=\"dataframe\">\n",
       "  <thead>\n",
       "    <tr style=\"text-align: right;\">\n",
       "      <th></th>\n",
       "      <th>Apartment</th>\n",
       "      <th>Independent House</th>\n",
       "      <th>Penthouse</th>\n",
       "      <th>Studio Apartment</th>\n",
       "      <th>Villa</th>\n",
       "    </tr>\n",
       "  </thead>\n",
       "  <tbody>\n",
       "    <tr>\n",
       "      <th>0</th>\n",
       "      <td>1</td>\n",
       "      <td>0</td>\n",
       "      <td>0</td>\n",
       "      <td>0</td>\n",
       "      <td>0</td>\n",
       "    </tr>\n",
       "    <tr>\n",
       "      <th>1</th>\n",
       "      <td>1</td>\n",
       "      <td>0</td>\n",
       "      <td>0</td>\n",
       "      <td>0</td>\n",
       "      <td>0</td>\n",
       "    </tr>\n",
       "    <tr>\n",
       "      <th>2</th>\n",
       "      <td>1</td>\n",
       "      <td>0</td>\n",
       "      <td>0</td>\n",
       "      <td>0</td>\n",
       "      <td>0</td>\n",
       "    </tr>\n",
       "    <tr>\n",
       "      <th>3</th>\n",
       "      <td>1</td>\n",
       "      <td>0</td>\n",
       "      <td>0</td>\n",
       "      <td>0</td>\n",
       "      <td>0</td>\n",
       "    </tr>\n",
       "    <tr>\n",
       "      <th>4</th>\n",
       "      <td>1</td>\n",
       "      <td>0</td>\n",
       "      <td>0</td>\n",
       "      <td>0</td>\n",
       "      <td>0</td>\n",
       "    </tr>\n",
       "    <tr>\n",
       "      <th>...</th>\n",
       "      <td>...</td>\n",
       "      <td>...</td>\n",
       "      <td>...</td>\n",
       "      <td>...</td>\n",
       "      <td>...</td>\n",
       "    </tr>\n",
       "    <tr>\n",
       "      <th>57401</th>\n",
       "      <td>1</td>\n",
       "      <td>0</td>\n",
       "      <td>0</td>\n",
       "      <td>0</td>\n",
       "      <td>0</td>\n",
       "    </tr>\n",
       "    <tr>\n",
       "      <th>57402</th>\n",
       "      <td>1</td>\n",
       "      <td>0</td>\n",
       "      <td>0</td>\n",
       "      <td>0</td>\n",
       "      <td>0</td>\n",
       "    </tr>\n",
       "    <tr>\n",
       "      <th>57403</th>\n",
       "      <td>1</td>\n",
       "      <td>0</td>\n",
       "      <td>0</td>\n",
       "      <td>0</td>\n",
       "      <td>0</td>\n",
       "    </tr>\n",
       "    <tr>\n",
       "      <th>57404</th>\n",
       "      <td>1</td>\n",
       "      <td>0</td>\n",
       "      <td>0</td>\n",
       "      <td>0</td>\n",
       "      <td>0</td>\n",
       "    </tr>\n",
       "    <tr>\n",
       "      <th>57405</th>\n",
       "      <td>1</td>\n",
       "      <td>0</td>\n",
       "      <td>0</td>\n",
       "      <td>0</td>\n",
       "      <td>0</td>\n",
       "    </tr>\n",
       "  </tbody>\n",
       "</table>\n",
       "<p>57406 rows × 5 columns</p>\n",
       "</div>"
      ],
      "text/plain": [
       "       Apartment  Independent House  Penthouse  Studio Apartment  Villa\n",
       "0              1                  0          0                 0      0\n",
       "1              1                  0          0                 0      0\n",
       "2              1                  0          0                 0      0\n",
       "3              1                  0          0                 0      0\n",
       "4              1                  0          0                 0      0\n",
       "...          ...                ...        ...               ...    ...\n",
       "57401          1                  0          0                 0      0\n",
       "57402          1                  0          0                 0      0\n",
       "57403          1                  0          0                 0      0\n",
       "57404          1                  0          0                 0      0\n",
       "57405          1                  0          0                 0      0\n",
       "\n",
       "[57406 rows x 5 columns]"
      ]
     },
     "execution_count": 27,
     "metadata": {},
     "output_type": "execute_result"
    }
   ],
   "source": [
    "dummy_areatype = pd.get_dummies(df1['type'])\n",
    "dummy_areatype"
   ]
  },
  {
   "cell_type": "code",
   "execution_count": 28,
   "id": "4f1076b0",
   "metadata": {},
   "outputs": [
    {
     "data": {
      "text/html": [
       "<div>\n",
       "<style scoped>\n",
       "    .dataframe tbody tr th:only-of-type {\n",
       "        vertical-align: middle;\n",
       "    }\n",
       "\n",
       "    .dataframe tbody tr th {\n",
       "        vertical-align: top;\n",
       "    }\n",
       "\n",
       "    .dataframe thead th {\n",
       "        text-align: right;\n",
       "    }\n",
       "</style>\n",
       "<table border=\"1\" class=\"dataframe\">\n",
       "  <thead>\n",
       "    <tr style=\"text-align: right;\">\n",
       "      <th></th>\n",
       "      <th>Agripada</th>\n",
       "      <th>Airoli</th>\n",
       "      <th>Ambarnath</th>\n",
       "      <th>Ambernath East</th>\n",
       "      <th>Ambernath West</th>\n",
       "      <th>Andheri East</th>\n",
       "      <th>Andheri West</th>\n",
       "      <th>Anjurdive</th>\n",
       "      <th>Badlapur East</th>\n",
       "      <th>Badlapur West</th>\n",
       "      <th>...</th>\n",
       "      <th>Vasai</th>\n",
       "      <th>Vashi</th>\n",
       "      <th>Vikhroli</th>\n",
       "      <th>Ville Parle East</th>\n",
       "      <th>Ville Parle West</th>\n",
       "      <th>Virar</th>\n",
       "      <th>Virar West</th>\n",
       "      <th>Wadala</th>\n",
       "      <th>Worli</th>\n",
       "      <th>other</th>\n",
       "    </tr>\n",
       "  </thead>\n",
       "  <tbody>\n",
       "    <tr>\n",
       "      <th>0</th>\n",
       "      <td>1</td>\n",
       "      <td>0</td>\n",
       "      <td>0</td>\n",
       "      <td>0</td>\n",
       "      <td>0</td>\n",
       "      <td>0</td>\n",
       "      <td>0</td>\n",
       "      <td>0</td>\n",
       "      <td>0</td>\n",
       "      <td>0</td>\n",
       "      <td>...</td>\n",
       "      <td>0</td>\n",
       "      <td>0</td>\n",
       "      <td>0</td>\n",
       "      <td>0</td>\n",
       "      <td>0</td>\n",
       "      <td>0</td>\n",
       "      <td>0</td>\n",
       "      <td>0</td>\n",
       "      <td>0</td>\n",
       "      <td>0</td>\n",
       "    </tr>\n",
       "    <tr>\n",
       "      <th>1</th>\n",
       "      <td>1</td>\n",
       "      <td>0</td>\n",
       "      <td>0</td>\n",
       "      <td>0</td>\n",
       "      <td>0</td>\n",
       "      <td>0</td>\n",
       "      <td>0</td>\n",
       "      <td>0</td>\n",
       "      <td>0</td>\n",
       "      <td>0</td>\n",
       "      <td>...</td>\n",
       "      <td>0</td>\n",
       "      <td>0</td>\n",
       "      <td>0</td>\n",
       "      <td>0</td>\n",
       "      <td>0</td>\n",
       "      <td>0</td>\n",
       "      <td>0</td>\n",
       "      <td>0</td>\n",
       "      <td>0</td>\n",
       "      <td>0</td>\n",
       "    </tr>\n",
       "    <tr>\n",
       "      <th>2</th>\n",
       "      <td>1</td>\n",
       "      <td>0</td>\n",
       "      <td>0</td>\n",
       "      <td>0</td>\n",
       "      <td>0</td>\n",
       "      <td>0</td>\n",
       "      <td>0</td>\n",
       "      <td>0</td>\n",
       "      <td>0</td>\n",
       "      <td>0</td>\n",
       "      <td>...</td>\n",
       "      <td>0</td>\n",
       "      <td>0</td>\n",
       "      <td>0</td>\n",
       "      <td>0</td>\n",
       "      <td>0</td>\n",
       "      <td>0</td>\n",
       "      <td>0</td>\n",
       "      <td>0</td>\n",
       "      <td>0</td>\n",
       "      <td>0</td>\n",
       "    </tr>\n",
       "    <tr>\n",
       "      <th>3</th>\n",
       "      <td>1</td>\n",
       "      <td>0</td>\n",
       "      <td>0</td>\n",
       "      <td>0</td>\n",
       "      <td>0</td>\n",
       "      <td>0</td>\n",
       "      <td>0</td>\n",
       "      <td>0</td>\n",
       "      <td>0</td>\n",
       "      <td>0</td>\n",
       "      <td>...</td>\n",
       "      <td>0</td>\n",
       "      <td>0</td>\n",
       "      <td>0</td>\n",
       "      <td>0</td>\n",
       "      <td>0</td>\n",
       "      <td>0</td>\n",
       "      <td>0</td>\n",
       "      <td>0</td>\n",
       "      <td>0</td>\n",
       "      <td>0</td>\n",
       "    </tr>\n",
       "    <tr>\n",
       "      <th>4</th>\n",
       "      <td>1</td>\n",
       "      <td>0</td>\n",
       "      <td>0</td>\n",
       "      <td>0</td>\n",
       "      <td>0</td>\n",
       "      <td>0</td>\n",
       "      <td>0</td>\n",
       "      <td>0</td>\n",
       "      <td>0</td>\n",
       "      <td>0</td>\n",
       "      <td>...</td>\n",
       "      <td>0</td>\n",
       "      <td>0</td>\n",
       "      <td>0</td>\n",
       "      <td>0</td>\n",
       "      <td>0</td>\n",
       "      <td>0</td>\n",
       "      <td>0</td>\n",
       "      <td>0</td>\n",
       "      <td>0</td>\n",
       "      <td>0</td>\n",
       "    </tr>\n",
       "  </tbody>\n",
       "</table>\n",
       "<p>5 rows × 115 columns</p>\n",
       "</div>"
      ],
      "text/plain": [
       "   Agripada  Airoli  Ambarnath  Ambernath East  Ambernath West  Andheri East  \\\n",
       "0         1       0          0               0               0             0   \n",
       "1         1       0          0               0               0             0   \n",
       "2         1       0          0               0               0             0   \n",
       "3         1       0          0               0               0             0   \n",
       "4         1       0          0               0               0             0   \n",
       "\n",
       "   Andheri West  Anjurdive  Badlapur East  Badlapur West  ...  Vasai  Vashi  \\\n",
       "0             0          0              0              0  ...      0      0   \n",
       "1             0          0              0              0  ...      0      0   \n",
       "2             0          0              0              0  ...      0      0   \n",
       "3             0          0              0              0  ...      0      0   \n",
       "4             0          0              0              0  ...      0      0   \n",
       "\n",
       "   Vikhroli  Ville Parle East  Ville Parle West  Virar  Virar West  Wadala  \\\n",
       "0         0                 0                 0      0           0       0   \n",
       "1         0                 0                 0      0           0       0   \n",
       "2         0                 0                 0      0           0       0   \n",
       "3         0                 0                 0      0           0       0   \n",
       "4         0                 0                 0      0           0       0   \n",
       "\n",
       "   Worli  other  \n",
       "0      0      0  \n",
       "1      0      0  \n",
       "2      0      0  \n",
       "3      0      0  \n",
       "4      0      0  \n",
       "\n",
       "[5 rows x 115 columns]"
      ]
     },
     "execution_count": 28,
     "metadata": {},
     "output_type": "execute_result"
    }
   ],
   "source": [
    "dummy_region = pd.get_dummies(df1['region'])\n",
    "dummy_region.head()"
   ]
  },
  {
   "cell_type": "code",
   "execution_count": 29,
   "id": "c8ea1909",
   "metadata": {},
   "outputs": [
    {
     "data": {
      "text/html": [
       "<div>\n",
       "<style scoped>\n",
       "    .dataframe tbody tr th:only-of-type {\n",
       "        vertical-align: middle;\n",
       "    }\n",
       "\n",
       "    .dataframe tbody tr th {\n",
       "        vertical-align: top;\n",
       "    }\n",
       "\n",
       "    .dataframe thead th {\n",
       "        text-align: right;\n",
       "    }\n",
       "</style>\n",
       "<table border=\"1\" class=\"dataframe\">\n",
       "  <thead>\n",
       "    <tr style=\"text-align: right;\">\n",
       "      <th></th>\n",
       "      <th>bhk</th>\n",
       "      <th>type</th>\n",
       "      <th>area</th>\n",
       "      <th>region</th>\n",
       "      <th>price_lakh</th>\n",
       "      <th>price_per_sqft</th>\n",
       "      <th>Apartment</th>\n",
       "      <th>Independent House</th>\n",
       "      <th>Penthouse</th>\n",
       "      <th>Studio Apartment</th>\n",
       "      <th>...</th>\n",
       "      <th>Vasai</th>\n",
       "      <th>Vashi</th>\n",
       "      <th>Vikhroli</th>\n",
       "      <th>Ville Parle East</th>\n",
       "      <th>Ville Parle West</th>\n",
       "      <th>Virar</th>\n",
       "      <th>Virar West</th>\n",
       "      <th>Wadala</th>\n",
       "      <th>Worli</th>\n",
       "      <th>other</th>\n",
       "    </tr>\n",
       "  </thead>\n",
       "  <tbody>\n",
       "    <tr>\n",
       "      <th>0</th>\n",
       "      <td>2</td>\n",
       "      <td>Apartment</td>\n",
       "      <td>650</td>\n",
       "      <td>Agripada</td>\n",
       "      <td>262.0</td>\n",
       "      <td>40307.692308</td>\n",
       "      <td>1</td>\n",
       "      <td>0</td>\n",
       "      <td>0</td>\n",
       "      <td>0</td>\n",
       "      <td>...</td>\n",
       "      <td>0</td>\n",
       "      <td>0</td>\n",
       "      <td>0</td>\n",
       "      <td>0</td>\n",
       "      <td>0</td>\n",
       "      <td>0</td>\n",
       "      <td>0</td>\n",
       "      <td>0</td>\n",
       "      <td>0</td>\n",
       "      <td>0</td>\n",
       "    </tr>\n",
       "    <tr>\n",
       "      <th>1</th>\n",
       "      <td>1</td>\n",
       "      <td>Apartment</td>\n",
       "      <td>803</td>\n",
       "      <td>Agripada</td>\n",
       "      <td>225.0</td>\n",
       "      <td>28019.925280</td>\n",
       "      <td>1</td>\n",
       "      <td>0</td>\n",
       "      <td>0</td>\n",
       "      <td>0</td>\n",
       "      <td>...</td>\n",
       "      <td>0</td>\n",
       "      <td>0</td>\n",
       "      <td>0</td>\n",
       "      <td>0</td>\n",
       "      <td>0</td>\n",
       "      <td>0</td>\n",
       "      <td>0</td>\n",
       "      <td>0</td>\n",
       "      <td>0</td>\n",
       "      <td>0</td>\n",
       "    </tr>\n",
       "    <tr>\n",
       "      <th>2</th>\n",
       "      <td>1</td>\n",
       "      <td>Apartment</td>\n",
       "      <td>684</td>\n",
       "      <td>Agripada</td>\n",
       "      <td>170.0</td>\n",
       "      <td>24853.801170</td>\n",
       "      <td>1</td>\n",
       "      <td>0</td>\n",
       "      <td>0</td>\n",
       "      <td>0</td>\n",
       "      <td>...</td>\n",
       "      <td>0</td>\n",
       "      <td>0</td>\n",
       "      <td>0</td>\n",
       "      <td>0</td>\n",
       "      <td>0</td>\n",
       "      <td>0</td>\n",
       "      <td>0</td>\n",
       "      <td>0</td>\n",
       "      <td>0</td>\n",
       "      <td>0</td>\n",
       "    </tr>\n",
       "    <tr>\n",
       "      <th>3</th>\n",
       "      <td>1</td>\n",
       "      <td>Apartment</td>\n",
       "      <td>545</td>\n",
       "      <td>Agripada</td>\n",
       "      <td>160.0</td>\n",
       "      <td>29357.798165</td>\n",
       "      <td>1</td>\n",
       "      <td>0</td>\n",
       "      <td>0</td>\n",
       "      <td>0</td>\n",
       "      <td>...</td>\n",
       "      <td>0</td>\n",
       "      <td>0</td>\n",
       "      <td>0</td>\n",
       "      <td>0</td>\n",
       "      <td>0</td>\n",
       "      <td>0</td>\n",
       "      <td>0</td>\n",
       "      <td>0</td>\n",
       "      <td>0</td>\n",
       "      <td>0</td>\n",
       "    </tr>\n",
       "    <tr>\n",
       "      <th>4</th>\n",
       "      <td>2</td>\n",
       "      <td>Apartment</td>\n",
       "      <td>1650</td>\n",
       "      <td>Agripada</td>\n",
       "      <td>350.0</td>\n",
       "      <td>21212.121212</td>\n",
       "      <td>1</td>\n",
       "      <td>0</td>\n",
       "      <td>0</td>\n",
       "      <td>0</td>\n",
       "      <td>...</td>\n",
       "      <td>0</td>\n",
       "      <td>0</td>\n",
       "      <td>0</td>\n",
       "      <td>0</td>\n",
       "      <td>0</td>\n",
       "      <td>0</td>\n",
       "      <td>0</td>\n",
       "      <td>0</td>\n",
       "      <td>0</td>\n",
       "      <td>0</td>\n",
       "    </tr>\n",
       "  </tbody>\n",
       "</table>\n",
       "<p>5 rows × 126 columns</p>\n",
       "</div>"
      ],
      "text/plain": [
       "   bhk       type  area    region  price_lakh  price_per_sqft  Apartment  \\\n",
       "0    2  Apartment   650  Agripada       262.0    40307.692308          1   \n",
       "1    1  Apartment   803  Agripada       225.0    28019.925280          1   \n",
       "2    1  Apartment   684  Agripada       170.0    24853.801170          1   \n",
       "3    1  Apartment   545  Agripada       160.0    29357.798165          1   \n",
       "4    2  Apartment  1650  Agripada       350.0    21212.121212          1   \n",
       "\n",
       "   Independent House  Penthouse  Studio Apartment  ...  Vasai  Vashi  \\\n",
       "0                  0          0                 0  ...      0      0   \n",
       "1                  0          0                 0  ...      0      0   \n",
       "2                  0          0                 0  ...      0      0   \n",
       "3                  0          0                 0  ...      0      0   \n",
       "4                  0          0                 0  ...      0      0   \n",
       "\n",
       "   Vikhroli  Ville Parle East  Ville Parle West  Virar  Virar West  Wadala  \\\n",
       "0         0                 0                 0      0           0       0   \n",
       "1         0                 0                 0      0           0       0   \n",
       "2         0                 0                 0      0           0       0   \n",
       "3         0                 0                 0      0           0       0   \n",
       "4         0                 0                 0      0           0       0   \n",
       "\n",
       "   Worli  other  \n",
       "0      0      0  \n",
       "1      0      0  \n",
       "2      0      0  \n",
       "3      0      0  \n",
       "4      0      0  \n",
       "\n",
       "[5 rows x 126 columns]"
      ]
     },
     "execution_count": 29,
     "metadata": {},
     "output_type": "execute_result"
    }
   ],
   "source": [
    "df2 = pd.concat([df1,dummy_areatype,dummy_region],axis=1)\n",
    "df2.head()"
   ]
  },
  {
   "cell_type": "code",
   "execution_count": 30,
   "id": "b405de1e",
   "metadata": {},
   "outputs": [],
   "source": [
    "df2.drop(['type','region','price_per_sqft'],inplace=True,axis=1)"
   ]
  },
  {
   "cell_type": "code",
   "execution_count": 31,
   "id": "425dbb3c",
   "metadata": {},
   "outputs": [
    {
     "data": {
      "text/plain": [
       "bhk                  0\n",
       "area                 0\n",
       "price_lakh           0\n",
       "Apartment            0\n",
       "Independent House    0\n",
       "                    ..\n",
       "Virar                0\n",
       "Virar West           0\n",
       "Wadala               0\n",
       "Worli                0\n",
       "other                0\n",
       "Length: 123, dtype: int64"
      ]
     },
     "execution_count": 31,
     "metadata": {},
     "output_type": "execute_result"
    }
   ],
   "source": [
    "df2.isnull().sum()"
   ]
  },
  {
   "cell_type": "code",
   "execution_count": 32,
   "id": "a56c9549",
   "metadata": {},
   "outputs": [
    {
     "data": {
      "text/html": [
       "<div>\n",
       "<style scoped>\n",
       "    .dataframe tbody tr th:only-of-type {\n",
       "        vertical-align: middle;\n",
       "    }\n",
       "\n",
       "    .dataframe tbody tr th {\n",
       "        vertical-align: top;\n",
       "    }\n",
       "\n",
       "    .dataframe thead th {\n",
       "        text-align: right;\n",
       "    }\n",
       "</style>\n",
       "<table border=\"1\" class=\"dataframe\">\n",
       "  <thead>\n",
       "    <tr style=\"text-align: right;\">\n",
       "      <th></th>\n",
       "      <th>bhk</th>\n",
       "      <th>area</th>\n",
       "      <th>price_lakh</th>\n",
       "      <th>Apartment</th>\n",
       "      <th>Independent House</th>\n",
       "      <th>Penthouse</th>\n",
       "      <th>Studio Apartment</th>\n",
       "      <th>Villa</th>\n",
       "      <th>Agripada</th>\n",
       "      <th>Airoli</th>\n",
       "      <th>...</th>\n",
       "      <th>Vasai</th>\n",
       "      <th>Vashi</th>\n",
       "      <th>Vikhroli</th>\n",
       "      <th>Ville Parle East</th>\n",
       "      <th>Ville Parle West</th>\n",
       "      <th>Virar</th>\n",
       "      <th>Virar West</th>\n",
       "      <th>Wadala</th>\n",
       "      <th>Worli</th>\n",
       "      <th>other</th>\n",
       "    </tr>\n",
       "  </thead>\n",
       "  <tbody>\n",
       "    <tr>\n",
       "      <th>47664</th>\n",
       "      <td>2</td>\n",
       "      <td>1100</td>\n",
       "      <td>140.0</td>\n",
       "      <td>1</td>\n",
       "      <td>0</td>\n",
       "      <td>0</td>\n",
       "      <td>0</td>\n",
       "      <td>0</td>\n",
       "      <td>0</td>\n",
       "      <td>0</td>\n",
       "      <td>...</td>\n",
       "      <td>0</td>\n",
       "      <td>0</td>\n",
       "      <td>0</td>\n",
       "      <td>0</td>\n",
       "      <td>0</td>\n",
       "      <td>0</td>\n",
       "      <td>0</td>\n",
       "      <td>0</td>\n",
       "      <td>0</td>\n",
       "      <td>0</td>\n",
       "    </tr>\n",
       "    <tr>\n",
       "      <th>7606</th>\n",
       "      <td>2</td>\n",
       "      <td>1010</td>\n",
       "      <td>188.0</td>\n",
       "      <td>1</td>\n",
       "      <td>0</td>\n",
       "      <td>0</td>\n",
       "      <td>0</td>\n",
       "      <td>0</td>\n",
       "      <td>0</td>\n",
       "      <td>0</td>\n",
       "      <td>...</td>\n",
       "      <td>0</td>\n",
       "      <td>0</td>\n",
       "      <td>0</td>\n",
       "      <td>0</td>\n",
       "      <td>0</td>\n",
       "      <td>0</td>\n",
       "      <td>0</td>\n",
       "      <td>0</td>\n",
       "      <td>0</td>\n",
       "      <td>0</td>\n",
       "    </tr>\n",
       "    <tr>\n",
       "      <th>35706</th>\n",
       "      <td>1</td>\n",
       "      <td>600</td>\n",
       "      <td>33.5</td>\n",
       "      <td>1</td>\n",
       "      <td>0</td>\n",
       "      <td>0</td>\n",
       "      <td>0</td>\n",
       "      <td>0</td>\n",
       "      <td>0</td>\n",
       "      <td>0</td>\n",
       "      <td>...</td>\n",
       "      <td>0</td>\n",
       "      <td>0</td>\n",
       "      <td>0</td>\n",
       "      <td>0</td>\n",
       "      <td>0</td>\n",
       "      <td>0</td>\n",
       "      <td>0</td>\n",
       "      <td>0</td>\n",
       "      <td>0</td>\n",
       "      <td>0</td>\n",
       "    </tr>\n",
       "    <tr>\n",
       "      <th>28859</th>\n",
       "      <td>2</td>\n",
       "      <td>1017</td>\n",
       "      <td>102.0</td>\n",
       "      <td>1</td>\n",
       "      <td>0</td>\n",
       "      <td>0</td>\n",
       "      <td>0</td>\n",
       "      <td>0</td>\n",
       "      <td>0</td>\n",
       "      <td>0</td>\n",
       "      <td>...</td>\n",
       "      <td>0</td>\n",
       "      <td>0</td>\n",
       "      <td>0</td>\n",
       "      <td>0</td>\n",
       "      <td>0</td>\n",
       "      <td>0</td>\n",
       "      <td>0</td>\n",
       "      <td>0</td>\n",
       "      <td>0</td>\n",
       "      <td>0</td>\n",
       "    </tr>\n",
       "    <tr>\n",
       "      <th>50466</th>\n",
       "      <td>3</td>\n",
       "      <td>1750</td>\n",
       "      <td>325.0</td>\n",
       "      <td>1</td>\n",
       "      <td>0</td>\n",
       "      <td>0</td>\n",
       "      <td>0</td>\n",
       "      <td>0</td>\n",
       "      <td>0</td>\n",
       "      <td>0</td>\n",
       "      <td>...</td>\n",
       "      <td>0</td>\n",
       "      <td>0</td>\n",
       "      <td>0</td>\n",
       "      <td>0</td>\n",
       "      <td>0</td>\n",
       "      <td>0</td>\n",
       "      <td>0</td>\n",
       "      <td>0</td>\n",
       "      <td>0</td>\n",
       "      <td>0</td>\n",
       "    </tr>\n",
       "  </tbody>\n",
       "</table>\n",
       "<p>5 rows × 123 columns</p>\n",
       "</div>"
      ],
      "text/plain": [
       "       bhk  area  price_lakh  Apartment  Independent House  Penthouse  \\\n",
       "47664    2  1100       140.0          1                  0          0   \n",
       "7606     2  1010       188.0          1                  0          0   \n",
       "35706    1   600        33.5          1                  0          0   \n",
       "28859    2  1017       102.0          1                  0          0   \n",
       "50466    3  1750       325.0          1                  0          0   \n",
       "\n",
       "       Studio Apartment  Villa  Agripada  Airoli  ...  Vasai  Vashi  Vikhroli  \\\n",
       "47664                 0      0         0       0  ...      0      0         0   \n",
       "7606                  0      0         0       0  ...      0      0         0   \n",
       "35706                 0      0         0       0  ...      0      0         0   \n",
       "28859                 0      0         0       0  ...      0      0         0   \n",
       "50466                 0      0         0       0  ...      0      0         0   \n",
       "\n",
       "       Ville Parle East  Ville Parle West  Virar  Virar West  Wadala  Worli  \\\n",
       "47664                 0                 0      0           0       0      0   \n",
       "7606                  0                 0      0           0       0      0   \n",
       "35706                 0                 0      0           0       0      0   \n",
       "28859                 0                 0      0           0       0      0   \n",
       "50466                 0                 0      0           0       0      0   \n",
       "\n",
       "       other  \n",
       "47664      0  \n",
       "7606       0  \n",
       "35706      0  \n",
       "28859      0  \n",
       "50466      0  \n",
       "\n",
       "[5 rows x 123 columns]"
      ]
     },
     "execution_count": 32,
     "metadata": {},
     "output_type": "execute_result"
    }
   ],
   "source": [
    "df2.sample(5)"
   ]
  },
  {
   "cell_type": "markdown",
   "id": "dc39f505",
   "metadata": {},
   "source": [
    "#### Split the data "
   ]
  },
  {
   "cell_type": "code",
   "execution_count": 33,
   "id": "3691ee91",
   "metadata": {},
   "outputs": [],
   "source": [
    "X = df2.drop(['price_lakh'],axis=1)\n",
    "y = df2['price_lakh']"
   ]
  },
  {
   "cell_type": "code",
   "execution_count": 34,
   "id": "496d95d9",
   "metadata": {},
   "outputs": [
    {
     "data": {
      "text/plain": [
       "bhk                  0\n",
       "area                 0\n",
       "Apartment            0\n",
       "Independent House    0\n",
       "Penthouse            0\n",
       "                    ..\n",
       "Virar                0\n",
       "Virar West           0\n",
       "Wadala               0\n",
       "Worli                0\n",
       "other                0\n",
       "Length: 122, dtype: int64"
      ]
     },
     "execution_count": 34,
     "metadata": {},
     "output_type": "execute_result"
    }
   ],
   "source": [
    "X.isnull().sum()"
   ]
  },
  {
   "cell_type": "code",
   "execution_count": 35,
   "id": "7575a281",
   "metadata": {},
   "outputs": [],
   "source": [
    "from sklearn.model_selection import train_test_split\n",
    "from sklearn.linear_model import LinearRegression,Lasso,Ridge\n",
    "from sklearn.tree import DecisionTreeRegressor\n",
    "from sklearn.ensemble import RandomForestRegressor\n",
    "from sklearn.svm import SVR\n",
    "from sklearn.neighbors import KNeighborsRegressor\n",
    "from sklearn.metrics import mean_absolute_error,mean_squared_error,r2_score\n"
   ]
  },
  {
   "cell_type": "code",
   "execution_count": 36,
   "id": "490540aa",
   "metadata": {},
   "outputs": [],
   "source": [
    "x_train,x_test,y_train,y_test=train_test_split(X,y,test_size=0.2,random_state=33)"
   ]
  },
  {
   "cell_type": "code",
   "execution_count": 37,
   "id": "18a580fe",
   "metadata": {},
   "outputs": [
    {
     "data": {
      "text/plain": [
       "((45924, 122), (11482, 122), (45924,), (11482,))"
      ]
     },
     "execution_count": 37,
     "metadata": {},
     "output_type": "execute_result"
    }
   ],
   "source": [
    "x_train.shape,x_test.shape,y_train.shape,y_test.shape"
   ]
  },
  {
   "cell_type": "markdown",
   "id": "601bfd66",
   "metadata": {},
   "source": [
    "### Linear Regression"
   ]
  },
  {
   "cell_type": "code",
   "execution_count": 38,
   "id": "18351f95",
   "metadata": {},
   "outputs": [
    {
     "name": "stdout",
     "output_type": "stream",
     "text": [
      "MAE :  34.131084746834475\n",
      "MSE :  3798.056189641603\n",
      "R2_Score :  0.8696972040414601\n"
     ]
    }
   ],
   "source": [
    "lr = LinearRegression()\n",
    "lr.fit(x_train,y_train)\n",
    "lr_pred = lr.predict(x_test)\n",
    "lr_mae = mean_absolute_error(y_test,lr_pred)\n",
    "lr_mse = mean_squared_error(y_test,lr_pred)\n",
    "lr_r2 = r2_score(y_test,lr_pred)\n",
    "print(\"MAE : \",lr_mae)\n",
    "print(\"MSE : \",lr_mse)\n",
    "print(\"R2_Score : \",lr_r2)"
   ]
  },
  {
   "cell_type": "code",
   "execution_count": null,
   "id": "01e2cd0b",
   "metadata": {},
   "outputs": [],
   "source": []
  },
  {
   "cell_type": "code",
   "execution_count": 39,
   "id": "b9baf013",
   "metadata": {},
   "outputs": [
    {
     "name": "stdout",
     "output_type": "stream",
     "text": [
      "MAE :  55.30440629500304\n",
      "MSE :  8452.138191734783\n",
      "R2_Score :  0.7100260809161631\n"
     ]
    }
   ],
   "source": [
    "lasso = Lasso()\n",
    "lasso.fit(x_train,y_train)\n",
    "lasso_pred = lasso.predict(x_test)\n",
    "lasso_mae = mean_absolute_error(y_test,lasso_pred)\n",
    "lasso_mse = mean_squared_error(y_test,lasso_pred)\n",
    "lasso_r2 = r2_score(y_test,lasso_pred)\n",
    "print(\"MAE : \",lasso_mae)\n",
    "print(\"MSE : \",lasso_mse)\n",
    "print(\"R2_Score : \",lasso_r2)"
   ]
  },
  {
   "cell_type": "code",
   "execution_count": null,
   "id": "7578c70a",
   "metadata": {},
   "outputs": [],
   "source": []
  },
  {
   "cell_type": "code",
   "execution_count": 40,
   "id": "8c42f952",
   "metadata": {},
   "outputs": [
    {
     "name": "stdout",
     "output_type": "stream",
     "text": [
      "MAE :  34.131084746834475\n",
      "MSE :  3798.056189641603\n",
      "R2_Score :  0.8696972040414601\n"
     ]
    }
   ],
   "source": [
    "ridge = Ridge()\n",
    "ridge.fit(x_train,y_train)\n",
    "ridge_pred = lr.predict(x_test)\n",
    "ridge_mae = mean_absolute_error(y_test,ridge_pred)\n",
    "ridge_mse = mean_squared_error(y_test,ridge_pred)\n",
    "ridge_r2 = r2_score(y_test,ridge_pred)\n",
    "print(\"MAE : \",ridge_mae)\n",
    "print(\"MSE : \",ridge_mse)\n",
    "print(\"R2_Score : \",ridge_r2)"
   ]
  },
  {
   "cell_type": "code",
   "execution_count": null,
   "id": "341e6678",
   "metadata": {},
   "outputs": [],
   "source": []
  },
  {
   "cell_type": "code",
   "execution_count": 41,
   "id": "a166ddfb",
   "metadata": {},
   "outputs": [
    {
     "name": "stdout",
     "output_type": "stream",
     "text": [
      "MAE :  17.287225983002273\n",
      "MSE :  2447.0701527578653\n",
      "R2_Score :  0.9160465072421349\n"
     ]
    }
   ],
   "source": [
    "dt = DecisionTreeRegressor()\n",
    "dt.fit(x_train,y_train)\n",
    "dt_pred = dt.predict(x_test)\n",
    "dt_mae = mean_absolute_error(y_test,dt_pred)\n",
    "dt_mse = mean_squared_error(y_test,dt_pred)\n",
    "dt_r2 = r2_score(y_test,dt_pred)\n",
    "print(\"MAE : \",dt_mae)\n",
    "print(\"MSE : \",dt_mse)\n",
    "print(\"R2_Score : \",dt_r2)"
   ]
  },
  {
   "cell_type": "code",
   "execution_count": null,
   "id": "b1e7ca02",
   "metadata": {},
   "outputs": [],
   "source": []
  },
  {
   "cell_type": "code",
   "execution_count": 42,
   "id": "5c4b0af3",
   "metadata": {},
   "outputs": [
    {
     "name": "stdout",
     "output_type": "stream",
     "text": [
      "MAE :  16.45856177096007\n",
      "MSE :  1785.7720376466582\n",
      "R2_Score :  0.9387341635217102\n"
     ]
    }
   ],
   "source": [
    "rf = RandomForestRegressor()\n",
    "rf.fit(x_train,y_train)\n",
    "rf_pred = rf.predict(x_test)\n",
    "rf_mae = mean_absolute_error(y_test,rf_pred)\n",
    "rf_mse = mean_squared_error(y_test,rf_pred)\n",
    "rf_r2 = r2_score(y_test,rf_pred)\n",
    "print(\"MAE : \",rf_mae)\n",
    "print(\"MSE : \",rf_mse)\n",
    "print(\"R2_Score : \",rf_r2)"
   ]
  },
  {
   "cell_type": "code",
   "execution_count": null,
   "id": "ee82b22a",
   "metadata": {},
   "outputs": [],
   "source": []
  },
  {
   "cell_type": "code",
   "execution_count": 43,
   "id": "9993f890",
   "metadata": {},
   "outputs": [
    {
     "name": "stdout",
     "output_type": "stream",
     "text": [
      "MAE :  34.231201881205365\n",
      "MSE :  6546.846823299077\n",
      "R2_Score :  0.7753923577763988\n"
     ]
    }
   ],
   "source": [
    "knn = KNeighborsRegressor()\n",
    "knn.fit(x_train,y_train)\n",
    "knn_pred = knn.predict(x_test)\n",
    "knn_mae = mean_absolute_error(y_test,knn_pred)\n",
    "knn_mse = mean_squared_error(y_test,knn_pred)\n",
    "knn_r2 = r2_score(y_test,knn_pred)\n",
    "print(\"MAE : \",knn_mae)\n",
    "print(\"MSE : \",knn_mse)\n",
    "print(\"R2_Score : \",knn_r2)"
   ]
  },
  {
   "cell_type": "code",
   "execution_count": null,
   "id": "a491ce47",
   "metadata": {},
   "outputs": [],
   "source": []
  },
  {
   "cell_type": "code",
   "execution_count": 44,
   "id": "4aca6d8c",
   "metadata": {},
   "outputs": [],
   "source": [
    "# svm = SVR()\n",
    "# svm.fit(x_train,y_train)\n",
    "# svm_pred = svm.predict(x_test)\n",
    "# svm_mae = mean_absolute_error(y_test,svm_pred)\n",
    "# svm_mse = mean_squared_error(y_test,svm_pred)\n",
    "# svm_r2 = r2_score(y_test,svm_pred)\n",
    "# print(\"MAE : \",svm_mae)\n",
    "# print(\"MSE : \",svm_mse)\n",
    "# print(\"R2_Score : \",svm_r2)"
   ]
  },
  {
   "cell_type": "code",
   "execution_count": null,
   "id": "3d15041c",
   "metadata": {},
   "outputs": [],
   "source": []
  },
  {
   "cell_type": "code",
   "execution_count": 45,
   "id": "3b1d6b43",
   "metadata": {},
   "outputs": [],
   "source": [
    "# Compare models visually\n",
    "models = ['Linear','Lasso','Ridge', 'Decision', 'Random', 'KNN']\n",
    "mse_scores = [lr_mse,lasso_mse,ridge_mse,dt_mse, rf_mse, knn_mse] #svm_mse]\n",
    "r2_scores = [lr_r2,lasso_r2,ridge_r2, dt_r2, rf_r2, knn_r2] #svm_r2]"
   ]
  },
  {
   "cell_type": "code",
   "execution_count": 46,
   "id": "9a146a9e",
   "metadata": {},
   "outputs": [
    {
     "data": {
      "image/png": "[encoded data removed]",
      "text/plain": [
       "<Figure size 1000x500 with 3 Axes>"
      ]
     },
     "metadata": {},
     "output_type": "display_data"
    }
   ],
   "source": [
    "plt.figure(figsize=(10, 5))\n",
    "\n",
    "plt.subplot(1, 3, 1)\n",
    "plt.bar(models, mse_scores, color='skyblue')\n",
    "plt.title('Mean Squared Error (MSE)')\n",
    "plt.ylabel('MSE')\n",
    "\n",
    "plt.subplot(1, 3, 2)\n",
    "plt.bar(models, mse_scores, color='skyblue')\n",
    "plt.title('Mean Squared Error (MSE)')\n",
    "plt.ylabel('MSE')\n",
    "\n",
    "plt.subplot(1, 3, 3)\n",
    "plt.bar(models, r2_scores, color='salmon')\n",
    "plt.title('R-squared (R^2)')\n",
    "plt.ylabel('R^2')\n",
    "\n",
    "plt.tight_layout()\n",
    "plt.show()"
   ]
  },
  {
   "cell_type": "code",
   "execution_count": null,
   "id": "0b114cc5",
   "metadata": {},
   "outputs": [],
   "source": []
  },
  {
   "cell_type": "code",
   "execution_count": 47,
   "id": "01f3f7dd",
   "metadata": {},
   "outputs": [],
   "source": [
    "import pickle\n",
    "with open('mum.pickle','wb') as file:\n",
    "    pickle.dump(rf, file)"
   ]
  },
  {
   "cell_type": "code",
   "execution_count": 48,
   "id": "e6cbf664",
   "metadata": {},
   "outputs": [],
   "source": [
    "import json\n",
    "columns = {\n",
    "    'cols' : [col.lower() for col in X.columns]\n",
    "}\n",
    "with open(\"cols.json\",\"w\") as f :\n",
    "    f.write(json.dumps(columns))        "
   ]
  },
  {
   "cell_type": "code",
   "execution_count": 49,
   "id": "70fa0d2e",
   "metadata": {},
   "outputs": [
    {
     "data": {
      "text/plain": [
       "Index(['bhk', 'area', 'Apartment', 'Independent House', 'Penthouse',\n",
       "       'Studio Apartment', 'Villa', 'Agripada', 'Airoli', 'Ambarnath',\n",
       "       ...\n",
       "       'Vasai', 'Vashi', 'Vikhroli', 'Ville Parle East', 'Ville Parle West',\n",
       "       'Virar', 'Virar West', 'Wadala', 'Worli', 'other'],\n",
       "      dtype='object', length=122)"
      ]
     },
     "execution_count": 49,
     "metadata": {},
     "output_type": "execute_result"
    }
   ],
   "source": [
    "X.columns"
   ]
  },
  {
   "cell_type": "code",
   "execution_count": 50,
   "id": "6a410604",
   "metadata": {},
   "outputs": [
    {
     "data": {
      "text/plain": [
       "Index(['Apartment', 'Independent House', 'Penthouse', 'Studio Apartment',\n",
       "       'Villa'],\n",
       "      dtype='object')"
      ]
     },
     "execution_count": 50,
     "metadata": {},
     "output_type": "execute_result"
    }
   ],
   "source": [
    "X.columns[2:7]"
   ]
  },
  {
   "cell_type": "code",
   "execution_count": 51,
   "id": "fc8e442d",
   "metadata": {},
   "outputs": [
    {
     "data": {
      "text/plain": [
       "Index(['Agripada', 'Airoli', 'Ambarnath', 'Ambernath East', 'Ambernath West',\n",
       "       'Andheri East', 'Andheri West', 'Anjurdive', 'Badlapur East',\n",
       "       'Badlapur West',\n",
       "       ...\n",
       "       'Vasai', 'Vashi', 'Vikhroli', 'Ville Parle East', 'Ville Parle West',\n",
       "       'Virar', 'Virar West', 'Wadala', 'Worli', 'other'],\n",
       "      dtype='object', length=115)"
      ]
     },
     "execution_count": 51,
     "metadata": {},
     "output_type": "execute_result"
    }
   ],
   "source": [
    "X.columns[7:]"
   ]
  },
  {
   "cell_type": "code",
   "execution_count": 52,
   "id": "bc38e28c",
   "metadata": {},
   "outputs": [],
   "source": [
    "#pickle.dump(rf,open('mum.pkl','wb'))"
   ]
  },
  {
   "cell_type": "code",
   "execution_count": 53,
   "id": "4f1d3c55",
   "metadata": {},
   "outputs": [],
   "source": [
    "#pickle.dump(model, open('model.pkl','wb'))"
   ]
  },
  {
   "cell_type": "code",
   "execution_count": 54,
   "id": "85bf3c02",
   "metadata": {},
   "outputs": [],
   "source": [
    "def predict_price(location,area,BHK):    \n",
    "    loc_index = np.where(X.columns==location)[0][0]\n",
    "\n",
    "    x = np.zeros(len(X.columns))\n",
    "    x[0] = area\n",
    "    x[1] = BHK\n",
    "    if loc_index >= 0:\n",
    "        x[loc_index] = 1\n",
    "\n",
    "    return ridge.predict([x])[0]"
   ]
  },
  {
   "cell_type": "code",
   "execution_count": 55,
   "id": "9dae0fc2",
   "metadata": {},
   "outputs": [],
   "source": [
    "# with open('.pkl', 'rb') as model_file:\n",
    "#     model = pickle.load(model_file)"
   ]
  },
  {
   "cell_type": "code",
   "execution_count": 65,
   "id": "075f1d26",
   "metadata": {},
   "outputs": [],
   "source": [
    "# Load the trained model (replace 'house_price.pkl' with the correct path)\n",
    "with open('mum.pickle', 'rb') as file:\n",
    "    model = pickle.load(file)"
   ]
  },
  {
   "cell_type": "code",
   "execution_count": 66,
   "id": "393fe250",
   "metadata": {},
   "outputs": [],
   "source": [
    "\n",
    "with open(\"cols.json\", 'r') as obj:\n",
    "    data_columns = json.load(obj)[\"cols\"]\n",
    "    area_types = data_columns[2:7]\n",
    "    locations = data_columns[7:]"
   ]
  },
  {
   "cell_type": "code",
   "execution_count": 97,
   "id": "c471f0e2",
   "metadata": {},
   "outputs": [],
   "source": [
    "# Create a sample data point (adjust the values as needed)\n",
    "sample_data = {\n",
    "    \"area_type\": \"Apartment\",  # Replace with your sample data\n",
    "    \"location\": \"Ghansoli\",       # Replace with your sample data\n",
    "    \"bhk\": 3,                            # Replace with your sample data\n",
    "    \"area\": 1259                        # Replace with your sample data\n",
    "}"
   ]
  },
  {
   "cell_type": "code",
   "execution_count": 98,
   "id": "806ee624",
   "metadata": {},
   "outputs": [],
   "source": [
    "# Create a DataFrame from the sample data (only one row)\n",
    "sample_df = pd.DataFrame([sample_data])"
   ]
  },
  {
   "cell_type": "code",
   "execution_count": 99,
   "id": "2ad0ba49",
   "metadata": {},
   "outputs": [],
   "source": [
    "# Preprocess the sample data (one-hot encoding for categorical variables)\n",
    "sample_df_encoded = pd.get_dummies(sample_df, columns=[\"area_type\", \"location\"])"
   ]
  },
  {
   "cell_type": "code",
   "execution_count": 100,
   "id": "136ef68f",
   "metadata": {},
   "outputs": [],
   "source": [
    "# Initialize a NumPy array for the input features\n",
    "sample_features = np.zeros(len(data_columns))\n"
   ]
  },
  {
   "cell_type": "code",
   "execution_count": 101,
   "id": "0fb6347e",
   "metadata": {},
   "outputs": [],
   "source": [
    "# Map the sample data to the feature array based on column names\n",
    "for col_name in sample_df_encoded.columns:\n",
    "    if col_name in data_columns:\n",
    "        col_index = data_columns.index(col_name)\n",
    "        sample_features[col_index] = sample_df_encoded[col_name].values[0]"
   ]
  },
  {
   "cell_type": "code",
   "execution_count": 102,
   "id": "7f83b733",
   "metadata": {},
   "outputs": [
    {
     "name": "stderr",
     "output_type": "stream",
     "text": [
      "C:\\Users\\Mukesh\\anaconda3\\lib\\site-packages\\sklearn\\base.py:420: UserWarning: X does not have valid feature names, but RandomForestRegressor was fitted with feature names\n",
      "  warnings.warn(\n"
     ]
    }
   ],
   "source": [
    "# Make predictions for the sample data\n",
    "predicted_price = model.predict([sample_features])[0]\n",
    "predicted_price = round(predicted_price, 2)\n"
   ]
  },
  {
   "cell_type": "code",
   "execution_count": 103,
   "id": "728c129a",
   "metadata": {},
   "outputs": [
    {
     "name": "stdout",
     "output_type": "stream",
     "text": [
      "Predicted Price for the Sample Data: 224.05 lakhs\n"
     ]
    }
   ],
   "source": [
    "print(f\"Predicted Price for the Sample Data: {predicted_price} lakhs\")"
   ]
  },
  {
   "cell_type": "code",
   "execution_count": null,
   "id": "eb39c9cb",
   "metadata": {},
   "outputs": [],
   "source": []
  },
  {
   "cell_type": "code",
   "execution_count": 57,
   "id": "ac1e09ce",
   "metadata": {},
   "outputs": [],
   "source": [
    "# Sample data (replace with your own data"
   ]
  },
  {
   "cell_type": "code",
   "execution_count": 58,
   "id": "40e29d14",
   "metadata": {},
   "outputs": [],
   "source": [
    "# # column_name = ['total_sqft','bath','price','BHK']\n",
    "# # Convert the sample data to a DataFrame\n",
    "# sample_df = pd.DataFrame(sample_data)\n",
    "\n",
    "# # Predict the house price using the loaded model\n",
    "# prediction = model.predict(sample_df)\n",
    "# print(f'Predicted House Price: ${prediction[0]:.2f}')"
   ]
  },
  {
   "cell_type": "code",
   "execution_count": 59,
   "id": "f1732848",
   "metadata": {},
   "outputs": [],
   "source": [
    "import os"
   ]
  },
  {
   "cell_type": "code",
   "execution_count": 60,
   "id": "758d7e55",
   "metadata": {},
   "outputs": [
    {
     "name": "stdout",
     "output_type": "stream",
     "text": [
      "C:\\Users\\Mukesh\\OneDrive\\Desktop\\MSC STATS SY\\ML\\ML_project\\mumbai_house\n"
     ]
    }
   ],
   "source": [
    "print(os.getcwd())"
   ]
  },
  {
   "cell_type": "code",
   "execution_count": 81,
   "id": "13b24ecb",
   "metadata": {},
   "outputs": [
    {
     "name": "stdout",
     "output_type": "stream",
     "text": [
      "1.2.1\n"
     ]
    }
   ],
   "source": [
    "import sklearn\n",
    "print(sklearn.__version__)"
   ]
  },
  {
   "cell_type": "code",
   "execution_count": 82,
   "id": "9207aef5",
   "metadata": {},
   "outputs": [
    {
     "name": "stdout",
     "output_type": "stream",
     "text": [
      "1.2.1\n"
     ]
    }
   ],
   "source": [
    "import sklearn\n",
    "print(sklearn.__version__)"
   ]
  },
  {
   "cell_type": "code",
   "execution_count": null,
   "id": "94aef149",
   "metadata": {},
   "outputs": [],
   "source": []
  },
  {
   "cell_type": "code",
   "execution_count": null,
   "id": "8cff90d0",
   "metadata": {},
   "outputs": [],
   "source": []
  },
  {
   "cell_type": "code",
   "execution_count": null,
   "id": "0a021cac",
   "metadata": {},
   "outputs": [],
   "source": []
  },
  {
   "cell_type": "code",
   "execution_count": null,
   "id": "e73e38de",
   "metadata": {},
   "outputs": [],
   "source": []
  },
  {
   "cell_type": "code",
   "execution_count": null,
   "id": "00b559b1",
   "metadata": {},
   "outputs": [],
   "source": []
  },
  {
   "cell_type": "code",
   "execution_count": 61,
   "id": "3ecd9c70",
   "metadata": {},
   "outputs": [],
   "source": [
    "# def remove_BHK_outliers(df):\n",
    "#     exclude_indices = np.array([])\n",
    "#     for location, location_df in df.groupby('region'):\n",
    "#         BHK_stats = {}\n",
    "#         for BHK, BHK_df in location_df.groupby('bhk'):\n",
    "#             BHK_stats[BHK] = {\n",
    "#                 'mean': np.mean(BHK_df.price_per_sqft),\n",
    "#                 'std': np.std(BHK_df.price_per_sqft),\n",
    "#                 'count': BHK_df.shape[0]\n",
    "#             }\n",
    "#         for BHK, BHK_df in location_df.groupby('bhk'):\n",
    "#             stats = BHK_stats.get(BHK-1)\n",
    "#             if stats and stats['count']>5:\n",
    "#                 exclude_indices = np.append(exclude_indices, BHK_df[BHK_df.price_per_sqft<(stats['mean'])].index.values)\n",
    "#     return df.drop(exclude_indices,axis='index')\n"
   ]
  },
  {
   "cell_type": "code",
   "execution_count": null,
   "id": "bfd9a01a",
   "metadata": {},
   "outputs": [],
   "source": []
  },
  {
   "cell_type": "code",
   "execution_count": null,
   "id": "39e5608f",
   "metadata": {},
   "outputs": [],
   "source": []
  },
  {
   "cell_type": "code",
   "execution_count": null,
   "id": "4e87d0df",
   "metadata": {},
   "outputs": [],
   "source": []
  },
  {
   "cell_type": "code",
   "execution_count": 62,
   "id": "f4cd8726",
   "metadata": {},
   "outputs": [],
   "source": [
    "# df1 = remove_BHK_outliers(data)"
   ]
  },
  {
   "cell_type": "code",
   "execution_count": null,
   "id": "a9b6df69",
   "metadata": {},
   "outputs": [],
   "source": []
  },
  {
   "cell_type": "code",
   "execution_count": null,
   "id": "1224a8fd",
   "metadata": {},
   "outputs": [],
   "source": []
  },
  {
   "cell_type": "code",
   "execution_count": null,
   "id": "82bd692b",
   "metadata": {},
   "outputs": [],
   "source": []
  },
  {
   "cell_type": "code",
   "execution_count": null,
   "id": "b6efa3d7",
   "metadata": {},
   "outputs": [],
   "source": []
  },
  {
   "cell_type": "code",
   "execution_count": 63,
   "id": "34e9c399",
   "metadata": {},
   "outputs": [],
   "source": [
    "column_name = ['bhk', 'area', 'price_lakh',\"price_per_sqft\"]"
   ]
  },
  {
   "cell_type": "code",
   "execution_count": 64,
   "id": "644ae281",
   "metadata": {},
   "outputs": [
    {
     "data": {
      "image/png": "[encoded data removed]",
      "text/plain": [
       "<Figure size 600x400 with 1 Axes>"
      ]
     },
     "metadata": {},
     "output_type": "display_data"
    },
    {
     "data": {
      "image/png": "[encoded data removed]",
      "text/plain": [
       "<Figure size 600x400 with 1 Axes>"
      ]
     },
     "metadata": {},
     "output_type": "display_data"
    },
    {
     "data": {
      "image/png": "[encoded data removed]",
      "text/plain": [
       "<Figure size 600x400 with 1 Axes>"
      ]
     },
     "metadata": {},
     "output_type": "display_data"
    },
    {
     "data": {
      "image/png": "[encoded data removed]",
      "text/plain": [
       "<Figure size 600x400 with 1 Axes>"
      ]
     },
     "metadata": {},
     "output_type": "display_data"
    }
   ],
   "source": [
    "for column in column_name :\n",
    "    plt.figure(figsize=(6, 4))\n",
    "    plt.boxplot(data[column], vert=False, boxprops=dict())\n",
    "    plt.title(f'Box Plot of {column}')\n",
    "    plt.xlabel('Value')\n",
    "    plt.show()"
   ]
  },
  {
   "cell_type": "code",
   "execution_count": null,
   "id": "17227847",
   "metadata": {},
   "outputs": [],
   "source": []
  },
  {
   "cell_type": "code",
   "execution_count": null,
   "id": "d224be98",
   "metadata": {},
   "outputs": [],
   "source": []
  }
 ],
 "metadata": {
  "kernelspec": {
   "display_name": "Python 3 (ipykernel)",
   "language": "python",
   "name": "python3"
  },
  "language_info": {
   "codemirror_mode": {
    "name": "ipython",
    "version": 3
   },
   "file_extension": ".py",
   "mimetype": "text/x-python",
   "name": "python",
   "nbconvert_exporter": "python",
   "pygments_lexer": "ipython3",
   "version": "3.10.9"
  }
 },
 "nbformat": 4,
 "nbformat_minor": 5
}
